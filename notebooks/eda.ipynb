{
 "cells": [
  {
   "cell_type": "code",
   "execution_count": 1,
   "id": "37e26459-f591-4f72-afb3-fcaa6c7c6e12",
   "metadata": {},
   "outputs": [],
   "source": [
    "import pandas as pd\n",
    "import matplotlib.pyplot as plt\n",
    "\n",
    "import os\n",
    "\n",
    "import sys\n",
    "sys.path.append(\"..\") # go to parent dir\n",
    "\n",
    "from utils.currency_df import league_df, trade_ratio, day_count"
   ]
  },
  {
   "cell_type": "markdown",
   "id": "cf1dcdd3-009a-416d-b9f8-72699b90e946",
   "metadata": {},
   "source": [
    "futures, options\n",
    "\n",
    "GLM"
   ]
  },
  {
   "cell_type": "markdown",
   "id": "92f7f5b3-9bf1-4506-97cb-099f6eedacbb",
   "metadata": {},
   "source": [
    "# League Only"
   ]
  },
  {
   "cell_type": "code",
   "execution_count": 2,
   "id": "05835ee3-090c-41d5-9f6c-331a36cdfbcb",
   "metadata": {},
   "outputs": [
    {
     "data": {
      "text/html": [
       "<div>\n",
       "<style scoped>\n",
       "    .dataframe tbody tr th:only-of-type {\n",
       "        vertical-align: middle;\n",
       "    }\n",
       "\n",
       "    .dataframe tbody tr th {\n",
       "        vertical-align: top;\n",
       "    }\n",
       "\n",
       "    .dataframe thead th {\n",
       "        text-align: right;\n",
       "    }\n",
       "</style>\n",
       "<table border=\"1\" class=\"dataframe\">\n",
       "  <thead>\n",
       "    <tr style=\"text-align: right;\">\n",
       "      <th></th>\n",
       "      <th>League</th>\n",
       "      <th>Date</th>\n",
       "      <th>Get</th>\n",
       "      <th>Pay</th>\n",
       "      <th>Value</th>\n",
       "      <th>Confidence</th>\n",
       "    </tr>\n",
       "  </thead>\n",
       "  <tbody>\n",
       "    <tr>\n",
       "      <th>0</th>\n",
       "      <td>Standard</td>\n",
       "      <td>2022-12-09</td>\n",
       "      <td>Exalted Orb</td>\n",
       "      <td>Chaos Orb</td>\n",
       "      <td>23.68423</td>\n",
       "      <td>High</td>\n",
       "    </tr>\n",
       "    <tr>\n",
       "      <th>1</th>\n",
       "      <td>Standard</td>\n",
       "      <td>2022-12-10</td>\n",
       "      <td>Exalted Orb</td>\n",
       "      <td>Chaos Orb</td>\n",
       "      <td>23.50797</td>\n",
       "      <td>High</td>\n",
       "    </tr>\n",
       "    <tr>\n",
       "      <th>2</th>\n",
       "      <td>Standard</td>\n",
       "      <td>2022-12-11</td>\n",
       "      <td>Exalted Orb</td>\n",
       "      <td>Chaos Orb</td>\n",
       "      <td>23.16688</td>\n",
       "      <td>High</td>\n",
       "    </tr>\n",
       "    <tr>\n",
       "      <th>3</th>\n",
       "      <td>Standard</td>\n",
       "      <td>2022-12-12</td>\n",
       "      <td>Exalted Orb</td>\n",
       "      <td>Chaos Orb</td>\n",
       "      <td>23.09729</td>\n",
       "      <td>High</td>\n",
       "    </tr>\n",
       "    <tr>\n",
       "      <th>4</th>\n",
       "      <td>Standard</td>\n",
       "      <td>2022-12-13</td>\n",
       "      <td>Exalted Orb</td>\n",
       "      <td>Chaos Orb</td>\n",
       "      <td>23.95626</td>\n",
       "      <td>High</td>\n",
       "    </tr>\n",
       "  </tbody>\n",
       "</table>\n",
       "</div>"
      ],
      "text/plain": [
       "     League       Date          Get        Pay     Value Confidence\n",
       "0  Standard 2022-12-09  Exalted Orb  Chaos Orb  23.68423       High\n",
       "1  Standard 2022-12-10  Exalted Orb  Chaos Orb  23.50797       High\n",
       "2  Standard 2022-12-11  Exalted Orb  Chaos Orb  23.16688       High\n",
       "3  Standard 2022-12-12  Exalted Orb  Chaos Orb  23.09729       High\n",
       "4  Standard 2022-12-13  Exalted Orb  Chaos Orb  23.95626       High"
      ]
     },
     "execution_count": 2,
     "metadata": {},
     "output_type": "execute_result"
    }
   ],
   "source": [
    "df = league_df()\n",
    "\n",
    "df.head()"
   ]
  },
  {
   "cell_type": "code",
   "execution_count": null,
   "id": "b5a5b0a0-30ec-4cce-b3a0-8f2464ca45ef",
   "metadata": {},
   "outputs": [],
   "source": [
    "plt.figure(figsize=(12,5))\n",
    "plt.plot(\n",
    "    df[df['Ratio Label'] == 'E-C']['Date'],\n",
    "    df[df['Ratio Label'] == 'E-C']['Ratio'],\n",
    ")\n",
    "plt.plot(\n",
    "    df[df['Ratio Label'] == 'E-C']['Date'],\n",
    "    df[df['Ratio Label'] == 'C-E']['Ratio'],\n",
    ")\n",
    "\n",
    "plt.title('Chaos to Exalt Ratio in Abyss')\n",
    "plt.show;"
   ]
  },
  {
   "cell_type": "code",
   "execution_count": null,
   "id": "1dd6ba4b-3cd3-4209-b845-e313a3e17347",
   "metadata": {},
   "outputs": [],
   "source": [
    "df.info()"
   ]
  },
  {
   "cell_type": "code",
   "execution_count": null,
   "id": "6ed8d58e-6d95-4c3e-b198-60b2fe52fc64",
   "metadata": {},
   "outputs": [],
   "source": [
    "day_count(df)\n",
    "\n",
    "df"
   ]
  },
  {
   "cell_type": "code",
   "execution_count": null,
   "id": "2f31f151-5572-409d-a6af-39a520a8e47e",
   "metadata": {},
   "outputs": [],
   "source": [
    "df[['Day', 'Ratio Label', 'Ratio']]"
   ]
  },
  {
   "cell_type": "code",
   "execution_count": null,
   "id": "fb2c8079-6951-41d5-ba8c-9b4cb3c412d4",
   "metadata": {},
   "outputs": [],
   "source": [
    "df['Ratio Label'].value_counts()"
   ]
  },
  {
   "cell_type": "code",
   "execution_count": null,
   "id": "7ae177fa-7137-4e95-8195-12bbd1b975a4",
   "metadata": {},
   "outputs": [],
   "source": [
    "path = '../data/leagues/'\n",
    "\n",
    "plt.figure(figsize=(12,5))\n",
    "\n",
    "for league in os.listdir(path):\n",
    "    df = league_df(league, 'exalt')\n",
    "    df = trade_ratio(df)\n",
    "    df = day_count(df)\n",
    "    plt.plot(\n",
    "        df[df['Ratio Label'] == 'E-C']['Day'],\n",
    "        df[df['Ratio Label'] == 'E-C']['Ratio'],\n",
    "        label = f'{league} E-C',\n",
    "    )\n",
    "    plt.plot(\n",
    "        df[df['Ratio Label'] == 'C-E']['Day'],\n",
    "        df[df['Ratio Label'] == 'C-E']['Ratio'],\n",
    "        label = f'{league} C-E',\n",
    "    )\n",
    "\n",
    "plt.title('Chaos to Exalt Ratio in all leagues')\n",
    "plt.legend()\n",
    "plt.show;"
   ]
  },
  {
   "cell_type": "code",
   "execution_count": null,
   "id": "866f6c14-b49b-4779-9ed6-77a6348e6d04",
   "metadata": {},
   "outputs": [],
   "source": [
    "path = '../data/leagues/'\n",
    "\n",
    "plt.figure(figsize=(12,5))\n",
    "\n",
    "for league in os.listdir(path):\n",
    "    df = league_df(league, 'divine')\n",
    "    df = trade_ratio(df)\n",
    "    df = day_count(df)\n",
    "    plt.plot(\n",
    "        df[df['Ratio Label'] == 'D-C']['Day'],\n",
    "        df[df['Ratio Label'] == 'D-C']['Ratio'],\n",
    "        label = f'{league} D-C',\n",
    "    )\n",
    "    plt.plot(\n",
    "        df[df['Ratio Label'] == 'C-D']['Day'],\n",
    "        df[df['Ratio Label'] == 'C-D']['Ratio'],\n",
    "        label = f'{league} C-D',\n",
    "    )\n",
    "\n",
    "plt.title('Chaos to Divine Ratio in all leagues')\n",
    "plt.legend()\n",
    "plt.show;"
   ]
  },
  {
   "cell_type": "code",
   "execution_count": null,
   "id": "14843b02-447f-4f60-bb50-b57ba3f16600",
   "metadata": {
    "tags": []
   },
   "outputs": [],
   "source": [
    "path = '../data/leagues/'\n",
    "\n",
    "plt.figure(figsize=(12,5))\n",
    "\n",
    "for league in os.listdir(path):\n",
    "    df = league_df(league, 'mirror')\n",
    "    if df.empty:\n",
    "        continue\n",
    "    df = trade_ratio(df)\n",
    "    df = day_count(df)\n",
    "    print('='*30)\n",
    "    print(league)\n",
    "    print(df['Ratio'].max())\n",
    "    plt.plot(\n",
    "        df[df['Ratio Label'] == 'M-C']['Day'],\n",
    "        df[df['Ratio Label'] == 'M-C']['Ratio'],\n",
    "        label = f'{league} M-C',\n",
    "    )\n",
    "    plt.plot(\n",
    "        df[df['Ratio Label'] == 'C-M']['Day'],\n",
    "        df[df['Ratio Label'] == 'C-M']['Ratio'],\n",
    "        label = f'{league} C-M',\n",
    "    )\n",
    "\n",
    "plt.title('Chaos to Mirror Ratio in all leagues')\n",
    "plt.legend()\n",
    "plt.show;"
   ]
  },
  {
   "cell_type": "code",
   "execution_count": null,
   "id": "0f465704-8acb-4bd1-80dd-f200bb537d91",
   "metadata": {},
   "outputs": [],
   "source": [
    "df = league_df('Archnemesis', 'mirror')\n",
    "df = trade_ratio(df)\n",
    "df = day_count(df)\n",
    "plt.figure(figsize=(12,5))\n",
    "plt.plot(\n",
    "    df[df['Ratio Label'] == 'M-C']['Date'],\n",
    "    df[df['Ratio Label'] == 'M-C']['Ratio'],\n",
    ")\n",
    "plt.plot(\n",
    "    df[df['Ratio Label'] == 'C-M']['Date'],\n",
    "    df[df['Ratio Label'] == 'C-M']['Ratio'],\n",
    ")\n",
    " \n",
    "plt.title('Chaos to Mirror Ratio in Archnemesis')\n",
    "plt.show;"
   ]
  },
  {
   "cell_type": "code",
   "execution_count": null,
   "id": "e6cd1e65-fd2a-45ac-84d6-1b339e2bfbf6",
   "metadata": {},
   "outputs": [],
   "source": [
    "df = league_df('Legacy', 'mirror')\n",
    "\n",
    "df.head()"
   ]
  },
  {
   "cell_type": "code",
   "execution_count": null,
   "id": "71f86a24-b0ef-4ce5-bbcb-64e1eed7ea22",
   "metadata": {},
   "outputs": [],
   "source": [
    "df = league_df(currency='exalt')\n",
    "\n",
    "df.head()"
   ]
  },
  {
   "cell_type": "code",
   "execution_count": null,
   "id": "a6697fb8-9637-4a32-8ae2-167ef6d4088d",
   "metadata": {},
   "outputs": [],
   "source": [
    "df = trade_ratio(df)\n",
    "df = df.sort_values('Date')"
   ]
  },
  {
   "cell_type": "code",
   "execution_count": null,
   "id": "15a63fcf-fdbd-403a-8924-cff100dd5742",
   "metadata": {},
   "outputs": [],
   "source": [
    "plt.figure(figsize=(12,5))\n",
    "plt.plot(\n",
    "    df[df['Ratio Label'] == 'E-C']['Date'],\n",
    "    df[df['Ratio Label'] == 'E-C']['Ratio'],\n",
    ")\n",
    "plt.plot(\n",
    "    df[df['Ratio Label'] == 'C-E']['Date'],\n",
    "    df[df['Ratio Label'] == 'C-E']['Ratio'],\n",
    ")\n",
    "\n",
    "plt.title('Chaos to Exalt Ratio in Standard')\n",
    "plt.show;"
   ]
  },
  {
   "cell_type": "code",
   "execution_count": null,
   "id": "2dbbd281-bcd5-44c4-941e-1c3ae050a4a4",
   "metadata": {},
   "outputs": [],
   "source": [
    "plt.figure(figsize=(12,5))\n",
    "plt.plot(\n",
    "    df[df['Ratio Label'] == 'E-C']['Date'],\n",
    "    df[df['Ratio Label'] == 'E-C']['Ratio'].diff(),\n",
    ")\n",
    "plt.plot(\n",
    "    df[df['Ratio Label'] == 'C-E']['Date'],\n",
    "    df[df['Ratio Label'] == 'C-E']['Ratio'].diff(),\n",
    ")\n",
    "\n",
    "plt.title('Chaos to Exalt Ratio Diff in Standard')\n",
    "plt.show;"
   ]
  },
  {
   "cell_type": "code",
   "execution_count": null,
   "id": "2039d128-bbc1-41f9-a460-9f2a2d8ed1ef",
   "metadata": {},
   "outputs": [],
   "source": [
    "df = league_df(currency='divine')\n",
    "\n",
    "df.head()"
   ]
  },
  {
   "cell_type": "code",
   "execution_count": null,
   "id": "dfc5911a-75ed-4d09-a469-e3b7a8e22e1a",
   "metadata": {},
   "outputs": [],
   "source": [
    "df = trade_ratio(df)\n",
    "df = df.sort_values('Date')"
   ]
  },
  {
   "cell_type": "code",
   "execution_count": null,
   "id": "afd875f3-dab3-4c25-855f-933f4f81e6ed",
   "metadata": {},
   "outputs": [],
   "source": [
    "plt.figure(figsize=(12,5))\n",
    "plt.plot(\n",
    "    df[df['Ratio Label'] == 'D-C']['Date'],\n",
    "    df[df['Ratio Label'] == 'D-C']['Ratio'],\n",
    ")\n",
    "plt.plot(\n",
    "    df[df['Ratio Label'] == 'C-D']['Date'],\n",
    "    df[df['Ratio Label'] == 'C-D']['Ratio'],\n",
    ")\n",
    "\n",
    "plt.title('Chaos to Divine Ratio in Standard')\n",
    "plt.show;"
   ]
  },
  {
   "cell_type": "code",
   "execution_count": null,
   "id": "4861da27-6c17-4e61-90f1-193701cc4ce3",
   "metadata": {},
   "outputs": [],
   "source": [
    "plt.figure(figsize=(12,5))\n",
    "plt.plot(\n",
    "    df[df['Ratio Label'] == 'D-C']['Date'],\n",
    "    df[df['Ratio Label'] == 'D-C']['Ratio'].diff(),\n",
    ")\n",
    "plt.plot(\n",
    "    df[df['Ratio Label'] == 'C-D']['Date'],\n",
    "    df[df['Ratio Label'] == 'C-D']['Ratio'].diff(),\n",
    ")\n",
    "\n",
    "plt.title('Chaos to Divine Ratio Diff in Standard')\n",
    "plt.show;"
   ]
  },
  {
   "cell_type": "code",
   "execution_count": null,
   "id": "7ed0a154-cc0c-4d88-8fd1-a4b3624ee5b9",
   "metadata": {},
   "outputs": [],
   "source": [
    "df = league_df(currency='mirror')\n",
    "\n",
    "df.head()"
   ]
  },
  {
   "cell_type": "code",
   "execution_count": null,
   "id": "391ff787-7594-4a1a-85c2-3ec7fa66442b",
   "metadata": {},
   "outputs": [],
   "source": [
    "df = trade_ratio(df)\n",
    "df = df.sort_values('Date')"
   ]
  },
  {
   "cell_type": "code",
   "execution_count": null,
   "id": "a5fc3395-c2bb-4a5a-a657-af5d42f55bd2",
   "metadata": {},
   "outputs": [],
   "source": [
    "plt.figure(figsize=(12,5))\n",
    "plt.plot(\n",
    "    df[df['Ratio Label'] == 'M-C']['Date'],\n",
    "    df[df['Ratio Label'] == 'M-C']['Ratio'],\n",
    ")\n",
    "plt.plot(\n",
    "    df[df['Ratio Label'] == 'C-M']['Date'],\n",
    "    df[df['Ratio Label'] == 'C-M']['Ratio'],\n",
    ")\n",
    "\n",
    "plt.title('Chaos to Mirror Ratio in Standard')\n",
    "plt.show;"
   ]
  },
  {
   "cell_type": "code",
   "execution_count": null,
   "id": "5e5f1de1-caa7-45eb-8253-0c5249d8994f",
   "metadata": {},
   "outputs": [],
   "source": [
    "plt.figure(figsize=(12,5))\n",
    "plt.plot(\n",
    "    df[df['Ratio Label'] == 'M-C']['Date'],\n",
    "    df[df['Ratio Label'] == 'M-C']['Ratio'].diff(),\n",
    ")\n",
    "plt.plot(\n",
    "    df[df['Ratio Label'] == 'C-M']['Date'],\n",
    "    df[df['Ratio Label'] == 'C-M']['Ratio'].diff(),\n",
    ")\n",
    "\n",
    "plt.title('Chaos to Mirror Ratio Diff in Standard')\n",
    "plt.show;"
   ]
  }
 ],
 "metadata": {
  "kernelspec": {
   "display_name": "Python 3 (ipykernel)",
   "language": "python",
   "name": "python3"
  },
  "language_info": {
   "codemirror_mode": {
    "name": "ipython",
    "version": 3
   },
   "file_extension": ".py",
   "mimetype": "text/x-python",
   "name": "python",
   "nbconvert_exporter": "python",
   "pygments_lexer": "ipython3",
   "version": "3.9.16"
  }
 },
 "nbformat": 4,
 "nbformat_minor": 5
}
